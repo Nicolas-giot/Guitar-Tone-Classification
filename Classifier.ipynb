{
 "cells": [
  {
   "cell_type": "code",
   "execution_count": 2,
   "id": "16c946b1-d826-4962-bc02-7925b3b402cc",
   "metadata": {},
   "outputs": [],
   "source": [
    "# Install necessary libraries\n",
    "# !pip install librosa torch torchvision numpy\n",
    "\n",
    "# Import libraries\n",
    "import os\n",
    "import numpy as np\n",
    "import librosa\n",
    "import torch\n",
    "import torchvision.transforms as T"
   ]
  },
  {
   "cell_type": "code",
   "execution_count": 6,
   "id": "4cc472cc-555b-4aac-92aa-e7ae60656c25",
   "metadata": {},
   "outputs": [],
   "source": [
    "# Define the EnhancedBinaryClassifier model\n",
    "class EnhancedBinaryClassifier(torch.nn.Module):\n",
    "    def __init__(self, input_height=128, input_width=128):\n",
    "        super(EnhancedBinaryClassifier, self).__init__()\n",
    "        self.conv1 = torch.nn.Conv2d(1, 32, kernel_size=3, stride=1, padding=1)\n",
    "        self.conv2 = torch.nn.Conv2d(32, 64, kernel_size=3, stride=1, padding=1)\n",
    "        self.pool = torch.nn.MaxPool2d(2, 2)\n",
    "        \n",
    "        self.flattened_size = self._get_flattened_size(input_height, input_width)\n",
    "        self.fc1 = torch.nn.Linear(self.flattened_size, 1)\n",
    "\n",
    "    def _get_flattened_size(self, height, width):\n",
    "        with torch.no_grad():\n",
    "            x = torch.zeros(1, 1, height, width)\n",
    "            x = self.pool(torch.relu(self.conv1(x)))\n",
    "            x = self.pool(torch.relu(self.conv2(x)))\n",
    "            return x.numel()\n",
    "\n",
    "    def forward(self, x):\n",
    "        x = self.pool(torch.relu(self.conv1(x)))\n",
    "        x = self.pool(torch.relu(self.conv2(x)))\n",
    "        x = x.view(x.size(0), -1)\n",
    "        x = torch.sigmoid(self.fc1(x))\n",
    "        return x"
   ]
  },
  {
   "cell_type": "code",
   "execution_count": 8,
   "id": "d8fbbdef-a0cf-4f81-a81a-b4515c74ce09",
   "metadata": {},
   "outputs": [
    {
     "name": "stderr",
     "output_type": "stream",
     "text": [
      "/var/folders/q3/wnbxndcx3fjf6bp_jz57w11m0000gn/T/ipykernel_10492/3695907956.py:4: FutureWarning: You are using `torch.load` with `weights_only=False` (the current default value), which uses the default pickle module implicitly. It is possible to construct malicious pickle data which will execute arbitrary code during unpickling (See https://github.com/pytorch/pytorch/blob/main/SECURITY.md#untrusted-models for more details). In a future release, the default value for `weights_only` will be flipped to `True`. This limits the functions that could be executed during unpickling. Arbitrary objects will no longer be allowed to be loaded via this mode unless they are explicitly allowlisted by the user via `torch.serialization.add_safe_globals`. We recommend you start setting `weights_only=True` for any use case where you don't have full control of the loaded file. Please open an issue on GitHub for any issues related to this experimental feature.\n",
      "  model.load_state_dict(torch.load(model_path))\n"
     ]
    },
    {
     "data": {
      "text/plain": [
       "EnhancedBinaryClassifier(\n",
       "  (conv1): Conv2d(1, 32, kernel_size=(3, 3), stride=(1, 1), padding=(1, 1))\n",
       "  (conv2): Conv2d(32, 64, kernel_size=(3, 3), stride=(1, 1), padding=(1, 1))\n",
       "  (pool): MaxPool2d(kernel_size=2, stride=2, padding=0, dilation=1, ceil_mode=False)\n",
       "  (fc1): Linear(in_features=65536, out_features=1, bias=True)\n",
       ")"
      ]
     },
     "execution_count": 8,
     "metadata": {},
     "output_type": "execute_result"
    }
   ],
   "source": [
    "# Load the trained model\n",
    "model_path = 'trained_model.pth'  # Path to your trained model\n",
    "model = EnhancedBinaryClassifier(input_height=128, input_width=128)\n",
    "model.load_state_dict(torch.load(model_path))\n",
    "model.eval()  # Set the model to evaluation mode"
   ]
  },
  {
   "cell_type": "code",
   "execution_count": 10,
   "id": "bc58d1a3-e46e-45b5-8bc1-5806a9f3caec",
   "metadata": {},
   "outputs": [],
   "source": [
    "def process_and_predict(file_path):\n",
    "    # Parameters for spectrogram generation\n",
    "    sr = 44100  # Sample rate\n",
    "    n_mels = 128  # Number of Mel bands\n",
    "    hop_length = 512  # Hop length\n",
    "    snippet_duration = 5  # Duration of each snippet in seconds\n",
    "    \n",
    "    # Resize transform to ensure spectrograms are 128x128\n",
    "    resize_transform = T.Compose([\n",
    "        T.ToPILImage(),\n",
    "        T.Resize((128, 128)),\n",
    "        T.ToTensor()\n",
    "    ])\n",
    "\n",
    "    # Load the audio file\n",
    "    try:\n",
    "        y, _ = librosa.load(file_path, sr=sr)\n",
    "    except Exception as e:\n",
    "        raise ValueError(f\"Failed to load {file_path}: {e}\")\n",
    "\n",
    "    # Calculate number of samples per snippet\n",
    "    snippet_samples = int(snippet_duration * sr)\n",
    "\n",
    "    # Split audio into 5-second snippets and predict\n",
    "    predictions = []\n",
    "    for start_sample in range(0, len(y) - snippet_samples + 1, snippet_samples):\n",
    "        end_sample = start_sample + snippet_samples\n",
    "        snippet = y[start_sample:end_sample]\n",
    "\n",
    "        # Generate the Mel spectrogram\n",
    "        S = librosa.feature.melspectrogram(y=snippet, sr=sr, n_mels=n_mels, hop_length=hop_length)\n",
    "        S_dB = librosa.power_to_db(S, ref=np.max)  # Convert to dB scale\n",
    "\n",
    "        # Convert spectrogram to tensor and resize\n",
    "        spectrogram_tensor = torch.tensor(S_dB, dtype=torch.float32)\n",
    "        spectrogram_tensor = resize_transform(spectrogram_tensor.unsqueeze(0)).squeeze(0)\n",
    "\n",
    "        # Add batch and channel dimensions for the model\n",
    "        spectrogram_tensor = spectrogram_tensor.unsqueeze(0).unsqueeze(0)\n",
    "\n",
    "        # Predict with the model\n",
    "        with torch.no_grad():\n",
    "            output = model(spectrogram_tensor).item()\n",
    "            predictions.append(output)\n",
    "\n",
    "    # Average the predictions\n",
    "    average_prediction = np.mean(predictions)\n",
    "    label = \"clean\" if average_prediction < 0.5 else \"distorted\"\n",
    "    \n",
    "    return label, predictions"
   ]
  },
  {
   "cell_type": "code",
   "execution_count": 14,
   "id": "65f63f63-657e-4ea0-a052-5c112b59ba5f",
   "metadata": {},
   "outputs": [
    {
     "name": "stdout",
     "output_type": "stream",
     "text": [
      "The audio file is predicted to be: clean\n",
      "Snippet predictions: [0.19373087584972382, 0.12644042074680328, 0.05742713063955307, 0.11891155689954758, 0.08172749727964401, 0.12470465898513794, 0.0909908190369606, 0.07392887771129608, 0.03425827622413635, 0.07056822627782822, 0.056865718215703964, 0.03679925948381424]\n"
     ]
    }
   ],
   "source": [
    "# Example usage\n",
    "file_path = 'clean 1 (40 bpm) open G.wav'  # Path to any 60-second .wav file, replace with any .wav to test if it guesses correctly\n",
    "result, snippet_predictions = process_and_predict(file_path)\n",
    "print(f\"The audio file is predicted to be: {result}\")\n",
    "print(f\"Snippet predictions: {snippet_predictions}\")"
   ]
  },
  {
   "cell_type": "code",
   "execution_count": null,
   "id": "297b845e-0def-485e-a471-433c2a3f26a6",
   "metadata": {},
   "outputs": [],
   "source": []
  }
 ],
 "metadata": {
  "kernelspec": {
   "display_name": "Python 3 (ipykernel)",
   "language": "python",
   "name": "python3"
  },
  "language_info": {
   "codemirror_mode": {
    "name": "ipython",
    "version": 3
   },
   "file_extension": ".py",
   "mimetype": "text/x-python",
   "name": "python",
   "nbconvert_exporter": "python",
   "pygments_lexer": "ipython3",
   "version": "3.12.4"
  }
 },
 "nbformat": 4,
 "nbformat_minor": 5
}
