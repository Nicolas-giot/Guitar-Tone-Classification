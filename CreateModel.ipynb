{
 "cells": [
  {
   "cell_type": "code",
   "execution_count": 1,
   "id": "1b9d8e10-9e98-4f19-aad4-c99df0202292",
   "metadata": {},
   "outputs": [],
   "source": [
    "# Install necessary libraries if not already installed\n",
    "# !pip install librosa tqdm matplotlib torch torchvision"
   ]
  },
  {
   "cell_type": "code",
   "execution_count": 2,
   "id": "6abaad9e-b6ed-425b-9816-a410d5b4630c",
   "metadata": {},
   "outputs": [],
   "source": [
    "# Import the necessary libraries\n",
    "import os\n",
    "import numpy as np\n",
    "import librosa\n",
    "import torch\n",
    "import torchvision.transforms as T\n",
    "from torch.utils.data import Dataset, DataLoader, random_split\n",
    "import matplotlib.pyplot as plt\n",
    "from tqdm import tqdm"
   ]
  },
  {
   "cell_type": "code",
   "execution_count": 3,
   "id": "164579f0-8549-4f9c-97a3-a4cfe99d2493",
   "metadata": {},
   "outputs": [
    {
     "name": "stderr",
     "output_type": "stream",
     "text": [
      "100%|███████████████████████████████████████████| 65/65 [01:00<00:00,  1.07it/s]\n"
     ]
    }
   ],
   "source": [
    "# Define input and output folders\n",
    "input_folder = 'wavFiles'\n",
    "output_folder = 'spectrograms'\n",
    "\n",
    "# Ensure the output folder exists\n",
    "os.makedirs(output_folder, exist_ok=True)\n",
    "\n",
    "# Parameters for spectrogram generation and segmentation\n",
    "sr = 44100  # Target sample rate\n",
    "n_mels = 128  # Number of Mel bands\n",
    "hop_length = 512  # Hop length for time resolution of the spectrogram\n",
    "snippet_duration = 5  # Duration of each snippet in seconds\n",
    "snippet_stride = 2.5  # Offset between the start of each snippet in seconds\n",
    "\n",
    "# Define a resize transform to ensure spectrograms are 128x128\n",
    "resize_transform = T.Compose([\n",
    "    T.ToPILImage(),\n",
    "    T.Resize((128, 128)),\n",
    "    T.ToTensor()\n",
    "])\n",
    "\n",
    "# Loop through each WAV file, segment, convert to spectrogram, resize, and save\n",
    "for filename in tqdm(os.listdir(input_folder)):\n",
    "    if filename.endswith('.wav'):\n",
    "        input_path = os.path.join(input_folder, filename)\n",
    "        \n",
    "        # Load the audio file with librosa\n",
    "        try:\n",
    "            y, _ = librosa.load(input_path, sr=sr)\n",
    "        except Exception as e:\n",
    "            print(f\"Failed to load {filename}: {e}\")\n",
    "            continue\n",
    "        \n",
    "        # Calculate the number of samples per snippet and stride\n",
    "        snippet_samples = int(snippet_duration * sr)\n",
    "        stride_samples = int(snippet_stride * sr)\n",
    "        \n",
    "        # Process overlapping 5-second snippets\n",
    "        for start_sample in range(0, len(y) - snippet_samples + 1, stride_samples):\n",
    "            end_sample = start_sample + snippet_samples\n",
    "            snippet = y[start_sample:end_sample]\n",
    "\n",
    "            # Generate the Mel spectrogram for the snippet\n",
    "            S = librosa.feature.melspectrogram(y=snippet, sr=sr, n_mels=n_mels, hop_length=hop_length)\n",
    "            S_dB = librosa.power_to_db(S, ref=np.max)  # Convert to dB scale\n",
    "\n",
    "            # Convert the spectrogram to a Torch tensor and resize\n",
    "            spectrogram_tensor = torch.tensor(S_dB, dtype=torch.float32)\n",
    "            spectrogram_tensor = resize_transform(spectrogram_tensor.unsqueeze(0)).squeeze(0)  # Resize and remove extra dimension\n",
    "\n",
    "            # Save the resized spectrogram with a unique filename\n",
    "            snippet_filename = f\"{filename.replace('.wav', '')}_start{start_sample}.npy\"\n",
    "            output_path = os.path.join(output_folder, snippet_filename)\n",
    "            np.save(output_path, spectrogram_tensor.numpy())"
   ]
  },
  {
   "cell_type": "code",
   "execution_count": 21,
   "id": "bf5f357c-6e3c-4f4a-841d-9d1663b9e71d",
   "metadata": {},
   "outputs": [],
   "source": [
    "# Custom Dataset class to load precomputed spectrograms from .npy files and assign labels\n",
    "class SpectrogramDataset(Dataset):\n",
    "    def __init__(self, spectrogram_folder, transform=None):\n",
    "        self.spectrogram_folder = spectrogram_folder\n",
    "        self.spectrogram_files = [f for f in os.listdir(spectrogram_folder) if f.endswith('.npy')]\n",
    "        self.transform = transform\n",
    "\n",
    "    def __len__(self):\n",
    "        return len(self.spectrogram_files)\n",
    "\n",
    "    def __getitem__(self, idx):\n",
    "        spectrogram_path = os.path.join(self.spectrogram_folder, self.spectrogram_files[idx])\n",
    "        spectrogram = np.load(spectrogram_path)\n",
    "        \n",
    "        filename = self.spectrogram_files[idx]\n",
    "        label = 0 if filename[0].lower() == 'c' else 1  # 0 for 'C' (clean), 1 for 'D' (distorted)\n",
    "        \n",
    "        spectrogram = torch.tensor(spectrogram, dtype=torch.float32).unsqueeze(0)  # Add channel dimension\n",
    "        label = torch.tensor(label, dtype=torch.float32)  # Float for BCELoss compatibility\n",
    "\n",
    "        if self.transform:\n",
    "            spectrogram = self.transform(spectrogram)\n",
    "        \n",
    "        return spectrogram, label"
   ]
  },
  {
   "cell_type": "code",
   "execution_count": 23,
   "id": "f130f9e0-7c71-4039-a9fc-fa8a962755e9",
   "metadata": {},
   "outputs": [
    {
     "name": "stdout",
     "output_type": "stream",
     "text": [
      "Clean samples: 736, Distorted samples: 736\n"
     ]
    }
   ],
   "source": [
    "# Define the folder containing the precomputed spectrograms\n",
    "spectrogram_folder = 'spectrograms'\n",
    "\n",
    "# Instantiate the dataset\n",
    "dataset = SpectrogramDataset(spectrogram_folder=spectrogram_folder)\n",
    "\n",
    "# Check class balance\n",
    "clean_count = sum(1 for _, label in dataset if label == 0)\n",
    "distorted_count = len(dataset) - clean_count\n",
    "print(f\"Clean samples: {clean_count}, Distorted samples: {distorted_count}\")\n",
    "\n",
    "# Split the dataset into training and testing sets\n",
    "train_ratio = 0.8\n",
    "train_size = int(train_ratio * len(dataset))\n",
    "test_size = len(dataset) - train_size\n",
    "train_dataset, test_dataset = random_split(dataset, [train_size, test_size])\n",
    "\n",
    "# Create DataLoaders for training and testing\n",
    "train_loader = DataLoader(train_dataset, batch_size=16, shuffle=True)\n",
    "test_loader = DataLoader(test_dataset, batch_size=16, shuffle=True)"
   ]
  },
  {
   "cell_type": "code",
   "execution_count": 25,
   "id": "389277da-8b50-42c7-9487-69e27663e61a",
   "metadata": {},
   "outputs": [],
   "source": [
    "# Define an enhanced CNN model for binary classification\n",
    "class EnhancedBinaryClassifier(torch.nn.Module):\n",
    "    def __init__(self, input_height=128, input_width=128):\n",
    "        super(EnhancedBinaryClassifier, self).__init__()\n",
    "        self.conv1 = torch.nn.Conv2d(1, 32, kernel_size=3, stride=1, padding=1)\n",
    "        self.conv2 = torch.nn.Conv2d(32, 64, kernel_size=3, stride=1, padding=1)\n",
    "        self.pool = torch.nn.MaxPool2d(2, 2)\n",
    "        \n",
    "        self.flattened_size = self._get_flattened_size(input_height, input_width)\n",
    "        self.fc1 = torch.nn.Linear(self.flattened_size, 1)\n",
    "\n",
    "    def _get_flattened_size(self, height, width):\n",
    "        with torch.no_grad():\n",
    "            x = torch.zeros(1, 1, height, width)\n",
    "            x = self.pool(torch.relu(self.conv1(x)))\n",
    "            x = self.pool(torch.relu(self.conv2(x)))\n",
    "            return x.numel()\n",
    "\n",
    "    def forward(self, x):\n",
    "        x = self.pool(torch.relu(self.conv1(x)))\n",
    "        x = self.pool(torch.relu(self.conv2(x)))\n",
    "        x = x.view(x.size(0), -1)\n",
    "        x = torch.sigmoid(self.fc1(x))\n",
    "        return x\n",
    "\n",
    "# Instantiate the model, optimizer, and loss function\n",
    "model = EnhancedBinaryClassifier(input_height=128, input_width=128)\n",
    "optimizer = torch.optim.Adam(model.parameters(), lr=1e-4)  # Reduced learning rate\n",
    "criterion = torch.nn.BCELoss()"
   ]
  },
  {
   "cell_type": "code",
   "execution_count": 27,
   "id": "a9ffcdff-c07f-4d3f-a9da-f01015d1efd5",
   "metadata": {},
   "outputs": [],
   "source": [
    "# Define a learning rate scheduler to decay the learning rate over time\n",
    "scheduler = torch.optim.lr_scheduler.StepLR(optimizer, step_size=10, gamma=0.1)\n",
    "\n",
    "# Helper function to monitor gradients\n",
    "def monitor_gradients():\n",
    "    for name, param in model.named_parameters():\n",
    "        if param.grad is not None:\n",
    "            print(f\"{name}: Gradient norm = {param.grad.norm().item()}\")"
   ]
  },
  {
   "cell_type": "code",
   "execution_count": 31,
   "id": "7e6b0471-f3f0-4c77-89bf-e33b78268bd5",
   "metadata": {},
   "outputs": [
    {
     "name": "stdout",
     "output_type": "stream",
     "text": [
      "Epoch [1/5], Training Loss: 0.1016\n",
      "Epoch [1/5], Testing Loss: 0.0662, Accuracy: 0.9729\n",
      "Epoch [2/5], Training Loss: 0.0911\n",
      "Epoch [2/5], Testing Loss: 0.0957, Accuracy: 0.9661\n",
      "Epoch [3/5], Training Loss: 0.0776\n",
      "Epoch [3/5], Testing Loss: 0.0361, Accuracy: 0.9898\n",
      "Epoch [4/5], Training Loss: 0.0710\n",
      "Epoch [4/5], Testing Loss: 0.0304, Accuracy: 0.9932\n",
      "Epoch [5/5], Training Loss: 0.0626\n",
      "Epoch [5/5], Testing Loss: 0.0481, Accuracy: 0.9864\n",
      "Model saved to trained_model.pth\n"
     ]
    }
   ],
   "source": [
    "num_epochs = 5\n",
    "model_save_path = 'trained_model.pth'  # Path to save the trained model\n",
    "\n",
    "for epoch in range(num_epochs):\n",
    "    model.train()\n",
    "    running_loss = 0.0\n",
    "    for spectrograms, labels in train_loader:\n",
    "        # Forward pass\n",
    "        outputs = model(spectrograms).squeeze(1)\n",
    "        loss = criterion(outputs, labels)\n",
    "        \n",
    "        # Backward pass and optimization\n",
    "        optimizer.zero_grad()\n",
    "        loss.backward()\n",
    "        optimizer.step()\n",
    "        \n",
    "        running_loss += loss.item()\n",
    "    \n",
    "    # Print epoch information\n",
    "    print(f\"Epoch [{epoch+1}/{num_epochs}], Training Loss: {running_loss/len(train_loader):.4f}\")\n",
    "    scheduler.step()  # Adjust the learning rate\n",
    "    \n",
    "    # Evaluate on test set\n",
    "    model.eval()\n",
    "    test_loss = 0.0\n",
    "    correct = 0\n",
    "    total = 0\n",
    "    with torch.no_grad():\n",
    "        for spectrograms, labels in test_loader:\n",
    "            outputs = model(spectrograms).squeeze(1)\n",
    "            test_loss += criterion(outputs, labels).item()\n",
    "            \n",
    "            # Calculate accuracy\n",
    "            predicted = (outputs >= 0.5).float()\n",
    "            correct += (predicted == labels).sum().item()\n",
    "            total += labels.size(0)\n",
    "    \n",
    "    accuracy = correct / total\n",
    "    print(f\"Epoch [{epoch+1}/{num_epochs}], Testing Loss: {test_loss/len(test_loader):.4f}, Accuracy: {accuracy:.4f}\")\n",
    "\n",
    "# Save the trained model to a file\n",
    "torch.save(model.state_dict(), model_save_path)\n",
    "print(f\"Model saved to {model_save_path}\")\n"
   ]
  },
  {
   "cell_type": "code",
   "execution_count": null,
   "id": "51d4c207-6cee-484f-ae25-7f53d904603e",
   "metadata": {},
   "outputs": [],
   "source": []
  }
 ],
 "metadata": {
  "kernelspec": {
   "display_name": "Python 3 (ipykernel)",
   "language": "python",
   "name": "python3"
  },
  "language_info": {
   "codemirror_mode": {
    "name": "ipython",
    "version": 3
   },
   "file_extension": ".py",
   "mimetype": "text/x-python",
   "name": "python",
   "nbconvert_exporter": "python",
   "pygments_lexer": "ipython3",
   "version": "3.12.4"
  }
 },
 "nbformat": 4,
 "nbformat_minor": 5
}
